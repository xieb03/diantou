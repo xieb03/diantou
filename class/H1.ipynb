{
 "cells": [
  {
   "cell_type": "code",
   "execution_count": 1,
   "metadata": {},
   "outputs": [],
   "source": [
    "%matplotlib inline\n",
    "%config InlineBackend.figure_format = \"retina\""
   ]
  },
  {
   "cell_type": "code",
   "execution_count": 2,
   "metadata": {},
   "outputs": [],
   "source": [
    "import sys\n",
    "sys.path.append(\"..\")\n",
    "sys.path.append(\"../..\")\n",
    "\n",
    "from project_utils import *"
   ]
  },
  {
   "cell_type": "code",
   "execution_count": 3,
   "metadata": {},
   "outputs": [],
   "source": [
    "%load_ext autoreload\n",
    "%autoreload 2"
   ]
  },
  {
   "cell_type": "code",
   "execution_count": 4,
   "metadata": {},
   "outputs": [],
   "source": [
    "fix_all_seed()"
   ]
  },
  {
   "cell_type": "code",
   "execution_count": 5,
   "metadata": {},
   "outputs": [
    {
     "name": "stdout",
     "output_type": "stream",
     "text": [
      "OPENAI_BASE_URL: https://api.closeai-proxy.xyz/v1\n",
      "OPENAI_API_KEY: 8V55bZBNNrS0keILgUUIQwW1RWO-Ys4siyk9zwk2i27DwqoCzaQ\n"
     ]
    }
   ],
   "source": [
    "print_closeai()"
   ]
  },
  {
   "cell_type": "code",
   "execution_count": 6,
   "metadata": {},
   "outputs": [],
   "source": [
    "client = get_openai_client()"
   ]
  },
  {
   "cell_type": "code",
   "execution_count": 7,
   "metadata": {},
   "outputs": [
    {
     "name": "stdout",
     "output_type": "stream",
     "text": [
      "prompt_token_count = 9, completion_token_count = 18, total_token_count = 27.\n",
      "cost time = 1.5s.\n"
     ]
    },
    {
     "data": {
      "text/plain": [
       "'你好！有什么我可以帮助你的吗？'"
      ]
     },
     "execution_count": 7,
     "metadata": {},
     "output_type": "execute_result"
    }
   ],
   "source": [
    "get_chat_completion_content(client, \"你好\")"
   ]
  },
  {
   "cell_type": "code",
   "execution_count": 8,
   "metadata": {},
   "outputs": [
    {
     "name": "stdout",
     "output_type": "stream",
     "text": [
      "prompt_token_count = 67, completion_token_count = 326, total_token_count = 393.\n",
      "cost time = 6.7s.\n"
     ]
    },
    {
     "data": {
      "text/plain": [
       "'作为私人秘书，我可以帮您处理日常事务，包括但不限于：\\n\\n1. 管理日程安排：安排会议、预订行程、提醒重要事项等。\\n2. 筛选和回复邮件：处理电子邮件、回复常见问题、过滤垃圾邮件等。\\n3. 组织文件和资料：整理和归档文件、准备会议材料等。\\n4. 安排会议和活动：预订会议室、发送邀请函、安排餐饮等。\\n5. 协助旅行安排：预订机票、酒店、租车等，提供旅行建议。\\n6. 管理通讯录和联系人：更新联系人信息、整理通讯录等。\\n7. 处理账务事务：管理账单、报销、财务记录等。\\n8. 研究和报告：收集信息、撰写报告、提供市场调研等。\\n\\n我全天候无休假，可以根据您的需要灵活安排工作时间。无论是工作日还是周末，我都会为您提供服务。'"
      ]
     },
     "execution_count": 8,
     "metadata": {},
     "output_type": "execute_result"
    }
   ],
   "source": [
    "get_chat_completion_content(client,\n",
    "                            user_prompt=\"你可以干啥？你什么时间上班\",\n",
    "                            system_prompt=\"你是一个私人秘书，你可以帮我干很多杂事，你为我工作的时间是全天候无休假。\",\n",
    "                            temperature=0.2)"
   ]
  },
  {
   "cell_type": "code",
   "execution_count": 9,
   "metadata": {},
   "outputs": [
    {
     "name": "stdout",
     "output_type": "stream",
     "text": [
      "prompt_token_count = 26, completion_token_count = 39, total_token_count = 65.\n",
      "cost time = 1.3s.\n"
     ]
    },
    {
     "data": {
      "text/plain": [
       "'我是一个语言模型，没有性别和年龄。我只是一个程序，被设计用来回答问题和提供帮助。'"
      ]
     },
     "execution_count": 9,
     "metadata": {},
     "output_type": "execute_result"
    }
   ],
   "source": [
    "get_chat_completion_content(client,\n",
    "                            user_prompt=[\"你是男生女生\", \"你的年纪是多大？\"],\n",
    "                            temperature=0.8)"
   ]
  },
  {
   "cell_type": "code",
   "execution_count": null,
   "metadata": {},
   "outputs": [],
   "source": []
  }
 ],
 "metadata": {
  "colab": {
   "provenance": [],
   "toc_visible": true
  },
  "kernelspec": {
   "display_name": "Python 3",
   "language": "python",
   "name": "python3"
  },
  "language_info": {
   "codemirror_mode": {
    "name": "ipython",
    "version": 3
   },
   "file_extension": ".py",
   "mimetype": "text/x-python",
   "name": "python",
   "nbconvert_exporter": "python",
   "pygments_lexer": "ipython3",
   "version": "3.8.5"
  },
  "varInspector": {
   "cols": {
    "lenName": 16,
    "lenType": 16,
    "lenVar": 40
   },
   "kernels_config": {
    "python": {
     "delete_cmd_postfix": "",
     "delete_cmd_prefix": "del ",
     "library": "var_list.py",
     "varRefreshCmd": "print(var_dic_list())"
    },
    "r": {
     "delete_cmd_postfix": ") ",
     "delete_cmd_prefix": "rm(",
     "library": "var_list.r",
     "varRefreshCmd": "cat(var_dic_list()) "
    }
   },
   "types_to_exclude": [
    "module",
    "function",
    "builtin_function_or_method",
    "instance",
    "_Feature"
   ],
   "window_display": false
  }
 },
 "nbformat": 4,
 "nbformat_minor": 4
}
