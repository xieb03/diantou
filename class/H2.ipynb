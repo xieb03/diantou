{
 "cells": [
  {
   "cell_type": "code",
   "execution_count": 1,
   "metadata": {},
   "outputs": [],
   "source": [
    "%matplotlib inline\n",
    "%config InlineBackend.figure_format = \"retina\""
   ]
  },
  {
   "cell_type": "code",
   "execution_count": 2,
   "metadata": {},
   "outputs": [
    {
     "name": "stdout",
     "output_type": "stream",
     "text": [
      "Author: xiebo\n",
      "\n",
      "Python implementation: CPython\n",
      "Python version       : 3.8.5\n",
      "IPython version      : 8.12.3\n",
      "\n",
      "torch      : 2.2.0+cu118\n",
      "torchdata  : 0.7.1\n",
      "torchtext  : 0.17.0\n",
      "torchvision: 0.17.0+cu118\n",
      "torchaudio : 2.2.0+cu118\n",
      "openai     : 1.10.0\n",
      "langchain  : 0.1.5\n",
      "tiktoken   : 0.5.2\n",
      "numpy      : 1.24.4\n",
      "pandas     : 2.0.3\n",
      "sklearn    : 1.3.2\n",
      "matplotlib : 3.7.4\n",
      "scipy      : 1.10.1\n",
      "\n"
     ]
    }
   ],
   "source": [
    "# Author: xiebo\n",
    "\n",
    "# Python implementation: CPython\n",
    "# Python version       : 3.8.5\n",
    "# IPython version      : 8.12.3\n",
    "\n",
    "# torch      : 2.2.0+cu118\n",
    "# torchdata  : 0.7.1\n",
    "# torchtext  : 0.17.0\n",
    "# torchvision: 0.17.0+cu118\n",
    "# torchaudio : 2.2.0+cu118\n",
    "# openai     : 1.10.0\n",
    "# langchain  : 0.1.5\n",
    "# tiktoken   : 0.5.2\n",
    "# numpy      : 1.24.4\n",
    "# pandas     : 2.0.3\n",
    "# sklearn    : 1.3.2\n",
    "# matplotlib : 3.7.4\n",
    "# scipy      : 1.10.1\n",
    "\n",
    "%load_ext watermark\n",
    "%watermark -a 'xiebo' -d -t -v -p torch,torchdata,torchtext,torchvision,torchaudio,openai,langchain,tiktoken,numpy,pandas,sklearn,matplotlib,scipy"
   ]
  },
  {
   "cell_type": "code",
   "execution_count": 3,
   "metadata": {},
   "outputs": [],
   "source": [
    "import sys\n",
    "sys.path.append(\"..\")\n",
    "sys.path.append(\"../..\")\n",
    "\n",
    "from project_utils import *"
   ]
  },
  {
   "cell_type": "code",
   "execution_count": 4,
   "metadata": {},
   "outputs": [],
   "source": [
    "%load_ext autoreload\n",
    "%autoreload 2"
   ]
  },
  {
   "cell_type": "code",
   "execution_count": 5,
   "metadata": {},
   "outputs": [],
   "source": [
    "fix_all_seed()"
   ]
  },
  {
   "cell_type": "code",
   "execution_count": 6,
   "metadata": {},
   "outputs": [
    {
     "name": "stdout",
     "output_type": "stream",
     "text": [
      "OPENAI_BASE_URL: https://api.closeai-proxy.xyz/v1\n",
      "OPENAI_API_KEY: 8V55bZBNNrS0keILgUUIQwW1RWO-Ys4siyk9zwk2i27DwqoCzaQ\n"
     ]
    }
   ],
   "source": [
    "print_closeai()"
   ]
  },
  {
   "cell_type": "code",
   "execution_count": 7,
   "metadata": {},
   "outputs": [],
   "source": [
    "client = get_openai_client()"
   ]
  },
  {
   "cell_type": "code",
   "execution_count": 8,
   "metadata": {},
   "outputs": [
    {
     "name": "stdout",
     "output_type": "stream",
     "text": [
      "prompt_token_count = 94, completion_token_count = 34, total_token_count = 128.\n",
      "choice_count = 1, cost time = 1.6s, finish_reason = stop.\n",
      "\n",
      "用户倾向：\n",
      "- 名称：100G套餐\n",
      "- 月费价格：不确定\n",
      "- 月流量：100G\n"
     ]
    }
   ],
   "source": [
    "#### 定义任务描述和输入\n",
    "# 测试LLM\n",
    "# 任务描述\n",
    "instruction = \"\"\"\n",
    "你的任务是识别用户对手机流量套餐产品的选择条件。\n",
    "每种流量套餐产品包含三个属性：名称，月费价格，月流量。\n",
    "根据用户输入，识别用户在上述三种属性上的倾向。\n",
    "\"\"\"\n",
    "\n",
    "# 用户输入\n",
    "input_text = \"\"\"\n",
    "办个100G的套餐。\n",
    "\"\"\"\n",
    "\n",
    "# prompt 模版。instruction 和 input_text 会被替换为上面的内容\n",
    "prompt = f\"\"\"\n",
    "{instruction}\n",
    "\n",
    "用户输入：\n",
    "{input_text}\n",
    "\"\"\"\n",
    "\n",
    "# prompt_token_count = 94, completion_token_count = 77, total_token_count = 171.\n",
    "# choice_count = 1, cost time = 2.4s, finish_reason = stop.\n",
    "# 用户在流量套餐产品的选择条件上的倾向为：\n",
    "# - 名称：用户倾向选择100G的套餐。\n",
    "# - 月费价格：用户未提及对月费价格的倾向。\n",
    "# - 月流量：用户倾向选择100G的套餐。\n",
    "content = get_chat_completion_content(client, prompt)\n",
    "print(content)"
   ]
  },
  {
   "cell_type": "code",
   "execution_count": 9,
   "metadata": {},
   "outputs": [
    {
     "name": "stdout",
     "output_type": "stream",
     "text": [
      "prompt_token_count = 100, completion_token_count = 32, total_token_count = 132.\n",
      "choice_count = 1, cost time = 1.3s, finish_reason = stop.\n",
      "\n",
      "{\n",
      "  \"名称\": \"100G套餐\",\n",
      "  \"月费价格\": \"\",\n",
      "  \"月流量\": \"100G\"\n",
      "}\n"
     ]
    }
   ],
   "source": [
    "# 从上面的结果可以看出 LLM 理解了我们的需求。\n",
    "# 但是自然语言的输出，不方便我们形成最终的决策。\n",
    "\n",
    "# 因此我们需要对输出的格式进行约定，形成格式化的输出，**推荐使用 JSON 格式输出**\n",
    "\n",
    "# 输出格式限定\n",
    "output_format = \"\"\"\n",
    "以 JSON 格式输出\n",
    "\"\"\"\n",
    "\n",
    "# 加入输出格式\n",
    "prompt = f\"\"\"\n",
    "{instruction}\n",
    "\n",
    "{output_format}\n",
    "\n",
    "用户输入：\n",
    "{input_text}\n",
    "\"\"\"\n",
    "\n",
    "# {\n",
    "#   \"名称\": \"100G套餐\",\n",
    "#   \"月费价格\": \"未知\",\n",
    "#   \"月流量\": \"100G\"\n",
    "# }\n",
    "content = get_chat_completion_content(client, prompt)\n",
    "print(content)"
   ]
  },
  {
   "cell_type": "code",
   "execution_count": 10,
   "metadata": {},
   "outputs": [
    {
     "name": "stdout",
     "output_type": "stream",
     "text": [
      "prompt_token_count = 454, completion_token_count = 25, total_token_count = 479.\n",
      "choice_count = 1, cost time = 0.9s, finish_reason = stop.\n",
      "\n",
      "{\n",
      "  \"data\": {\n",
      "    \"operator\": \">=\",\n",
      "    \"value\": \"无上限\"\n",
      "  }\n",
      "}\n"
     ]
    }
   ],
   "source": [
    "# 任务描述增加了字段的**英文标识符**\n",
    "instruction = \"\"\"\n",
    "你的任务是识别用户对手机流量套餐产品的选择条件。\n",
    "每种流量套餐产品包含三个属性：名称(name)，月费价格(price)，月流量(data)。\n",
    "根据用户输入，识别用户在上述三种属性上的倾向。\n",
    "\"\"\"\n",
    "\n",
    "# 输出格式增加了各种定义、约束\n",
    "output_format = \"\"\"\n",
    "以JSON格式输出。\n",
    "1. name字段的取值为string类型，取值必须为以下之一：经济套餐、畅游套餐、无限套餐、校园套餐 或 null；\n",
    "\n",
    "2. price字段的取值为一个结构体 或 null，包含两个字段：\n",
    "(1) operator, string类型，取值范围：'<='（小于等于）, '>=' (大于等于), '=='（等于）\n",
    "(2) value, int类型\n",
    "\n",
    "3. data字段的取值为取值为一个结构体 或 null，包含两个字段：\n",
    "(1) operator, string类型，取值范围：'<='（小于等于）, '>=' (大于等于), '=='（等于）\n",
    "(2) value, int类型或string类型，string类型只能是'无上限'\n",
    "\n",
    "4. 用户的意图可以包含按price或data排序，以sort字段标识，取值为一个结构体：\n",
    "(1) 结构体中以\"ordering\"=\"descend\"表示按降序排序，以\"value\"字段存储待排序的字段\n",
    "(2) 结构体中以\"ordering\"=\"ascend\"表示按升序排序，以\"value\"字段存储待排序的字段\n",
    "\n",
    "只输出中只包含用户提及的字段，不要猜测任何用户未直接提及的字段，不输出值为null的字段。\n",
    "\"\"\"\n",
    "\n",
    "# {\n",
    "#   \"data\": {\n",
    "#     \"operator\": \">=\",\n",
    "#     \"value\": 100\n",
    "#   }\n",
    "# }\n",
    "# input_text = \"办个100G以上的套餐\"\n",
    "\n",
    "# {\n",
    "#   \"name\": \"无限套餐\"\n",
    "# }\n",
    "# input_text = \"我要无限量套餐\"\n",
    "\n",
    "# {\n",
    "#   \"name\": \"经济套餐\",\n",
    "#   \"price\": {\n",
    "#     \"operator\": \"<=\",\n",
    "#     \"value\": 50\n",
    "#   }\n",
    "# }\n",
    "# input_text = \"有没有便宜的套餐\"\n",
    "\n",
    "# {\n",
    "#   \"price\": {\n",
    "#     \"operator\": \"<=\",\n",
    "#     \"value\": 100\n",
    "#   },\n",
    "#   \"data\": {\n",
    "#     \"operator\": \">=\",\n",
    "#     \"value\": 10\n",
    "#   },\n",
    "#   \"sort\": {\n",
    "#     \"ordering\": \"descend\",\n",
    "#     \"value\": \"data\"\n",
    "#   }\n",
    "# }\n",
    "# input_text = \"有没有便宜的套餐，但流量能多一些\"\n",
    "\n",
    "# {\n",
    "#   \"data\": {\n",
    "#     \"operator\": \">=\",\n",
    "#     \"value\": \"无上限\"\n",
    "#   }\n",
    "# }\n",
    "input_text = \"我只要流量足够多的套餐\"\n",
    "\n",
    "prompt = f\"\"\"\n",
    "{instruction}\n",
    "\n",
    "{output_format}\n",
    "\n",
    "用户输入：\n",
    "{input_text}\n",
    "\"\"\"\n",
    "\n",
    "content = get_chat_completion_content(client, prompt)\n",
    "print(content)"
   ]
  },
  {
   "cell_type": "code",
   "execution_count": 11,
   "metadata": {},
   "outputs": [
    {
     "name": "stdout",
     "output_type": "stream",
     "text": [
      "prompt_token_count = 639, completion_token_count = 11, total_token_count = 650.\n",
      "choice_count = 1, cost time = 0.7s, finish_reason = stop.\n",
      "\n",
      "{\"data\":{\"operator\":\"==\",\"value\":10}}\n"
     ]
    }
   ],
   "source": [
    "examples = \"\"\"\n",
    "便宜的套餐：{\"sort\":{\"ordering\"=\"ascend\",\"value\"=\"price\"}}\n",
    "有没有不限流量的：{\"data\":{\"operator\":\"==\",\"value\":\"无上限\"}}\n",
    "流量大的：{\"sort\":{\"ordering\"=\"descend\",\"value\"=\"data\"}}\n",
    "100G以上流量的套餐最便宜的是哪个：{\"sort\":{\"ordering\"=\"ascend\",\"value\"=\"price\"},\"data\":{\"operator\":\">=\",\"value\":100}}\n",
    "月费不超过200的：{\"price\":{\"operator\":\"<=\",\"value\":200}}\n",
    "就要月费180那个套餐：{\"price\":{\"operator\":\"==\",\"value\":180}}\n",
    "经济套餐：{\"name\":\"经济套餐\"}\n",
    "\"\"\"\n",
    "\n",
    "# {\"sort\":{\"ordering\":\"ascend\",\"value\":\"price\"}}\n",
    "# input_text = \"有没有便宜的套餐\"\n",
    "\n",
    "# {\"name\":\"无限套餐\"}\n",
    "# input_text = \"有没有土豪套餐\"\n",
    "\n",
    "# {\"data\":{\"operator\":\">=\",\"value\":200},\"sort\":{\"ordering\":\"ascend\",\"value\":\"price\"}}\n",
    "# input_text = \"办个200G的套餐\"\n",
    "\n",
    "# {\"sort\":{\"ordering\":\"descend\",\"value\":\"data\"}}\n",
    "# input_text = \"有没有流量大的套餐\"\n",
    "\n",
    "# {\"price\":{\"operator\":\"<=\",\"value\":200},\"sort\":{\"ordering\":\"descend\",\"value\":\"data\"}}\n",
    "# input_text = \"200元以下，流量大的套餐有啥\"\n",
    "\n",
    "# {\"data\":{\"operator\":\"==\",\"value\":10}}\n",
    "input_text = \"你说那个10G的套餐，叫啥名字\"\n",
    "\n",
    "# 有了例子\n",
    "prompt = f\"\"\"\n",
    "{instruction}\n",
    "\n",
    "{output_format}\n",
    "\n",
    "例如：\n",
    "{examples}\n",
    "\n",
    "用户输入：\n",
    "{input_text}\n",
    "\n",
    "\"\"\"\n",
    "\n",
    "content = get_chat_completion_content(client, prompt)\n",
    "print(content)"
   ]
  },
  {
   "cell_type": "code",
   "execution_count": 12,
   "metadata": {},
   "outputs": [
    {
     "name": "stdout",
     "output_type": "stream",
     "text": [
      "prompt_token_count = 836, completion_token_count = 14, total_token_count = 850.\n",
      "choice_count = 1, cost time = 1.1s, finish_reason = stop.\n",
      "\n",
      "{\"sort\":{\"ordering\"=\"descend\",\"value\"=\"data\"}}\n"
     ]
    }
   ],
   "source": [
    "instruction = \"\"\"\n",
    "你的任务是识别用户对手机流量套餐产品的选择条件。\n",
    "每种流量套餐产品包含三个属性：名称(name)，月费价格(price)，月流量(data)。\n",
    "根据对话上下文，识别用户在上述属性上的倾向。识别结果要包含整个对话的信息。\n",
    "\"\"\"\n",
    "\n",
    "# 输出描述\n",
    "output_format = \"\"\"\n",
    "以JSON格式输出。\n",
    "1. name字段的取值为string类型，取值必须为以下之一：经济套餐、畅游套餐、无限套餐、校园套餐 或 null；\n",
    "\n",
    "2. price字段的取值为一个结构体 或 null，包含两个字段：\n",
    "(1) operator, string类型，取值范围：'<='（小于等于）, '>=' (大于等于), '=='（等于）\n",
    "(2) value, int类型\n",
    "\n",
    "3. data字段的取值为取值为一个结构体 或 null，包含两个字段：\n",
    "(1) operator, string类型，取值范围：'<='（小于等于）, '>=' (大于等于), '=='（等于）\n",
    "(2) value, int类型或string类型，string类型只能是'无上限'\n",
    "\n",
    "4. 用户的意图可以包含按price或data排序，以sort字段标识，取值为一个结构体：\n",
    "(1) 结构体中以\"ordering\"=\"descend\"表示按降序排序，以\"value\"字段存储待排序的字段\n",
    "(2) 结构体中以\"ordering\"=\"ascend\"表示按升序排序，以\"value\"字段存储待排序的字段\n",
    "\n",
    "只输出中只包含用户提及的字段，不要猜测任何用户未直接提及的字段。不要输出值为null的字段。\n",
    "\"\"\"\n",
    "# DO NOT OUTPUT NULL-VALUED FIELD!\n",
    "\n",
    "# 多轮对话的例子\n",
    "examples = \"\"\"\n",
    "客服：有什么可以帮您\n",
    "用户：100G套餐有什么\n",
    "\n",
    "{\"data\":{\"operator\":\">=\",\"value\":100}}\n",
    "\n",
    "客服：有什么可以帮您\n",
    "用户：100G套餐有什么\n",
    "客服：我们现在有无限套餐，不限流量，月费300元\n",
    "用户：太贵了，有200元以内的不\n",
    "\n",
    "{\"data\":{\"operator\":\">=\",\"value\":100},\"price\":{\"operator\":\"<=\",\"value\":200}}\n",
    "\n",
    "客服：有什么可以帮您\n",
    "用户：便宜的套餐有什么\n",
    "客服：我们现在有经济套餐，每月50元，10G流量\n",
    "用户：100G以上的有什么\n",
    "\n",
    "{\"data\":{\"operator\":\">=\",\"value\":100},\"sort\":{\"ordering\"=\"ascend\",\"value\"=\"price\"}}\n",
    "\n",
    "客服：有什么可以帮您\n",
    "用户：100G以上的套餐有什么\n",
    "客服：我们现在有畅游套餐，流量100G，月费180元\n",
    "用户：流量最多的呢\n",
    "\n",
    "{\"sort\":{\"ordering\"=\"descend\",\"value\"=\"data\"},\"data\":{\"operator\":\">=\",\"value\":100}}\n",
    "\"\"\"\n",
    "\n",
    "# {\"sort\":{\"ordering\"=\"ascend\",\"value\"=\"price\"},\"data\":{\"operator\":\">=\",\"value\":100}}\n",
    "# input_text = \"哪个便宜\"\n",
    "\n",
    "# {\"name\": \"无限套餐\"}\n",
    "# input_text = \"无限量哪个多少钱\"\n",
    "\n",
    "# {\"sort\":{\"ordering\"=\"descend\",\"value\"=\"data\"}}\n",
    "input_text = \"流量最大的多少钱\"\n",
    "\n",
    "# 多轮对话上下文\n",
    "context = f\"\"\"\n",
    "客服：有什么可以帮您\n",
    "用户：有什么100G以上的套餐推荐\n",
    "客服：我们有畅游套餐和无限套餐，您有什么价格倾向吗\n",
    "用户：{input_text}\n",
    "\"\"\"\n",
    "\n",
    "prompt = f\"\"\"\n",
    "{instruction}\n",
    "\n",
    "{output_format}\n",
    "\n",
    "{examples}\n",
    "\n",
    "{context}\n",
    "\"\"\"\n",
    "\n",
    "content = get_chat_completion_content(client, prompt)\n",
    "print(content)"
   ]
  },
  {
   "cell_type": "code",
   "execution_count": 13,
   "metadata": {},
   "outputs": [
    {
     "name": "stdout",
     "output_type": "stream",
     "text": [
      "prompt_token_count = 158, completion_token_count = 49, total_token_count = 207.\n",
      "choice_count = 1, cost time = 1.5s, finish_reason = stop.\n",
      "\n",
      "prompt_token_count = 220, completion_token_count = 14, total_token_count = 234.\n",
      "choice_count = 1, cost time = 0.7s, finish_reason = stop.\n",
      "\n",
      "prompt_token_count = 248, completion_token_count = 13, total_token_count = 261.\n",
      "choice_count = 1, cost time = 0.8s, finish_reason = stop.\n",
      "\n",
      "1 system:\n",
      "\t你是一个手机流量套餐的客服代表。可以帮助用户选择最合适的流量套餐产品。可以选择的套餐包括：\n",
      "经济套餐，月费50元，10G流量；\n",
      "畅游套餐，月费180元，100G流量；\n",
      "无限套餐，月费300元，1000G流量；\n",
      "校园套餐，月费150元，200G流量，仅限在校生。\n",
      "1 user:\n",
      "\t有没有土豪套餐？\n",
      "1 assistant:\n",
      "\t很抱歉，我们没有土豪套餐。但是我们有无限套餐，它提供1000G的流量，适合大流量用户。\n",
      "2 user:\n",
      "\t多少钱？\n",
      "2 assistant:\n",
      "\t无限套餐的月费是300元。\n",
      "3 user:\n",
      "\t给我办一个？\n",
      "3 assistant:\n",
      "\t好的，请问您是在校生吗？\n"
     ]
    }
   ],
   "source": [
    "# 1 system:\n",
    "# \t你是一个手机流量套餐的客服代表。可以帮助用户选择最合适的流量套餐产品。可以选择的套餐包括：\n",
    "# 经济套餐，月费50元，10G流量；\n",
    "# 畅游套餐，月费180元，100G流量；\n",
    "# 无限套餐，月费300元，1000G流量；\n",
    "# 校园套餐，月费150元，200G流量，仅限在校生。\n",
    "# 1 user:\n",
    "# \t有没有土豪套餐？\n",
    "# 1 assistant:\n",
    "# \t很抱歉，我们没有土豪套餐。但是我们有无限套餐，它提供1000G的流量，适合大流量用户。\n",
    "# 2 user:\n",
    "# \t多少钱？\n",
    "# 2 assistant:\n",
    "# \t无限套餐的月费是300元。\n",
    "# 3 user:\n",
    "# \t给我办一个？\n",
    "# 3 assistant:\n",
    "# \t好的，请问您是在校生吗？\n",
    "\n",
    "history_message_list = list()\n",
    "\n",
    "system_prompt = \"\"\"\n",
    "你是一个手机流量套餐的客服代表。可以帮助用户选择最合适的流量套餐产品。可以选择的套餐包括：\n",
    "经济套餐，月费50元，10G流量；\n",
    "畅游套餐，月费180元，100G流量；\n",
    "无限套餐，月费300元，1000G流量；\n",
    "校园套餐，月费150元，200G流量，仅限在校生。\n",
    "\"\"\"\n",
    "\n",
    "get_chat_completion_content(client, user_prompt=\"有没有土豪套餐？\", system_prompt=system_prompt, history_message_list=history_message_list)\n",
    "get_chat_completion_content(client, user_prompt=\"多少钱？\",  history_message_list=history_message_list)\n",
    "get_chat_completion_content(client, user_prompt=\"给我办一个？\", history_message_list=history_message_list)\n",
    "\n",
    "print_history_message_list(history_message_list)"
   ]
  },
  {
   "cell_type": "code",
   "execution_count": 14,
   "metadata": {},
   "outputs": [
    {
     "ename": "SyntaxError",
     "evalue": "unexpected EOF while parsing (<ipython-input-14-a63b37fd44e1>, line 1)",
     "output_type": "error",
     "traceback": [
      "\u001b[1;36m  Cell \u001b[1;32mIn[14], line 1\u001b[1;36m\u001b[0m\n\u001b[1;33m    def abc():\u001b[0m\n\u001b[1;37m              ^\u001b[0m\n\u001b[1;31mSyntaxError\u001b[0m\u001b[1;31m:\u001b[0m unexpected EOF while parsing\n"
     ]
    }
   ],
   "source": [
    "def abc():"
   ]
  },
  {
   "cell_type": "code",
   "execution_count": null,
   "metadata": {},
   "outputs": [],
   "source": []
  },
  {
   "cell_type": "code",
   "execution_count": null,
   "metadata": {},
   "outputs": [],
   "source": []
  },
  {
   "cell_type": "code",
   "execution_count": null,
   "metadata": {},
   "outputs": [],
   "source": [
    "# prompt_token_count = 9, completion_token_count = 18, total_token_count = 27.\n",
    "# choice_count = 1, cost time = 1.2s, finish_reason = stop.\n",
    "# 你好！有什么我可以帮助你的吗？\n",
    "content = get_chat_completion_content(client, \"你好\")\n",
    "print(content)"
   ]
  },
  {
   "cell_type": "code",
   "execution_count": null,
   "metadata": {},
   "outputs": [],
   "source": [
    "# prompt_token_count = 67, completion_token_count = 379, total_token_count = 446.\n",
    "# choice_count = 1, cost time = 6.3s, finish_reason = stop.\n",
    "# 作为私人秘书，我可以帮您处理日常事务，包括但不限于以下任务：\n",
    "\n",
    "# 1. 管理日程安排：安排会议、预订行程、提醒重要事件等。\n",
    "# 2. 筛选和回复邮件：帮您处理电子邮件，筛选重要邮件并回复。\n",
    "# 3. 组织文件和资料：整理和管理文件、文档和资料，确保您能够轻松找到所需信息。\n",
    "# 4. 安排会议和活动：协助您安排会议、活动和社交聚会，包括预订场地、发送邀请函等。\n",
    "# 5. 电话和邮件代接：代接您的电话和邮件，过滤垃圾信息并转达重要信息。\n",
    "# 6. 旅行安排：为您预订机票、酒店和交通工具，确保您的出行顺利。\n",
    "# 7. 财务管理：协助您管理个人财务，包括账单支付、预算制定等。\n",
    "# 8. 管理社交媒体：帮您管理社交媒体账号，发布内容、回复评论等。\n",
    "\n",
    "# 我全天候无休假，根据您的需求，我可以根据您的时间安排灵活上班。无论是早晨、下午还是晚上，我都会为您提供服务。\n",
    "content = get_chat_completion_content(client,\n",
    "                            user_prompt=\"你可以干啥？你什么时间上班\",\n",
    "                            system_prompt=\"你是一个私人秘书，你可以帮我干很多杂事，你为我工作的时间是全天候无休假。\",\n",
    "                            temperature=0.2)\n",
    "print(content)"
   ]
  },
  {
   "cell_type": "code",
   "execution_count": null,
   "metadata": {},
   "outputs": [],
   "source": [
    "# prompt_token_count = 29, completion_token_count = 57, total_token_count = 86.\n",
    "# choice_count = 1, cost time = 1.4s, finish_reason = stop.\n",
    "# 作为一个人工智能助手，我没有性别和年龄。我只是一个程序，专注于提供帮助和回答问题。有什么我可以帮助你的吗？\n",
    "content = get_chat_completion_content(client,\n",
    "                            user_prompt=[\"你是男生还是女生?\", \"你的年纪是多大？\"],\n",
    "                            temperature=0.8)\n",
    "print(content)"
   ]
  },
  {
   "cell_type": "code",
   "execution_count": null,
   "metadata": {},
   "outputs": [],
   "source": []
  }
 ],
 "metadata": {
  "colab": {
   "provenance": [],
   "toc_visible": true
  },
  "kernelspec": {
   "display_name": "Python 3",
   "language": "python",
   "name": "python3"
  },
  "language_info": {
   "codemirror_mode": {
    "name": "ipython",
    "version": 3
   },
   "file_extension": ".py",
   "mimetype": "text/x-python",
   "name": "python",
   "nbconvert_exporter": "python",
   "pygments_lexer": "ipython3",
   "version": "3.8.5"
  },
  "varInspector": {
   "cols": {
    "lenName": 16,
    "lenType": 16,
    "lenVar": 40
   },
   "kernels_config": {
    "python": {
     "delete_cmd_postfix": "",
     "delete_cmd_prefix": "del ",
     "library": "var_list.py",
     "varRefreshCmd": "print(var_dic_list())"
    },
    "r": {
     "delete_cmd_postfix": ") ",
     "delete_cmd_prefix": "rm(",
     "library": "var_list.r",
     "varRefreshCmd": "cat(var_dic_list()) "
    }
   },
   "types_to_exclude": [
    "module",
    "function",
    "builtin_function_or_method",
    "instance",
    "_Feature"
   ],
   "window_display": false
  }
 },
 "nbformat": 4,
 "nbformat_minor": 4
}
